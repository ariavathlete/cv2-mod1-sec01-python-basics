{
 "cells": [
  {
   "cell_type": "markdown",
   "metadata": {},
   "source": [
    "### Questions\n",
    "* what is a  dunder do in Python? ie `__init__`\n",
    "* in the solutions they use a different format for looping\n",
    "    * when should and how does it work\n",
    "    * list comprehension vs long format for loop\n",
    "* question about dictionaries (nested)\n",
    "    * how does that work? how do we access nested dictionaries? \n",
    "* lambdas wth?! \n",
    "* macbeth project is saying that macbeth isn't defined. \n",
    "* in `numpy` setting a seed for reproducibility\n",
    "    * what does it mean to set a random seed?"
   ]
  },
  {
   "cell_type": "markdown",
   "metadata": {},
   "source": [
    "### Objectives\n",
    "YWBAT\n",
    "- execute helpful jupyter shortcuts\n",
    "- manipulate a string for a desired result\n",
    "- use method chaining to manipulate a string\n",
    "    - method chaining - a function of an object's class\n",
    "    - ex: `my_string.replace('old', 'new')`\n",
    "- use the zip function to iterate over 2 lists\n",
    "- use list comprehension to create a list\n",
    "    - list comprehension - building a list inline (within a single line of code)\n",
    "- loop through a dictionary and get specific items"
   ]
  },
  {
   "cell_type": "markdown",
   "metadata": {},
   "source": [
    "# Shortcut keys\n",
    "- `tab` autocomples, but also shows you options\n",
    "- `shift+tab` x1, x2, x4 shows you documentation"
   ]
  },
  {
   "cell_type": "code",
   "execution_count": 18,
   "metadata": {},
   "outputs": [],
   "source": [
    "import numpy as np\n",
    "np.random.seed(42)"
   ]
  },
  {
   "cell_type": "code",
   "execution_count": 20,
   "metadata": {},
   "outputs": [
    {
     "data": {
      "text/plain": [
       "array([ 9.7234714 , 11.29537708, 13.04605971,  9.53169325,  9.53172609,\n",
       "       13.15842563, 11.53486946,  9.06105123, 11.08512009,  9.07316461,\n",
       "        9.06854049, 10.48392454,  6.17343951,  6.55016433,  8.87542494,\n",
       "        7.97433776, 10.62849467,  8.18395185,  7.1753926 , 12.93129754])"
      ]
     },
     "execution_count": 20,
     "metadata": {},
     "output_type": "execute_result"
    }
   ],
   "source": [
    "numbers = np.random.normal(10, 2, size=20)\n",
    "numbers"
   ]
  },
  {
   "cell_type": "code",
   "execution_count": 22,
   "metadata": {},
   "outputs": [
    {
     "data": {
      "text/plain": [
       "7"
      ]
     },
     "execution_count": 22,
     "metadata": {},
     "output_type": "execute_result"
    }
   ],
   "source": [
    "sum()"
   ]
  },
  {
   "cell_type": "markdown",
   "metadata": {},
   "source": [
    "### Outline"
   ]
  },
  {
   "cell_type": "markdown",
   "metadata": {},
   "source": [
    "# List comprehension vs for loop"
   ]
  },
  {
   "cell_type": "code",
   "execution_count": 26,
   "metadata": {},
   "outputs": [],
   "source": [
    "import random\n",
    "random.seed(42)"
   ]
  },
  {
   "cell_type": "markdown",
   "metadata": {},
   "source": [
    "#### Making a list with a for loop"
   ]
  },
  {
   "cell_type": "code",
   "execution_count": 54,
   "metadata": {},
   "outputs": [
    {
     "name": "stdout",
     "output_type": "stream",
     "text": [
      "[5, 16, 3, 20, 9, 20, 16, 19, 6, 4]\n"
     ]
    }
   ],
   "source": [
    "list_of_numbers = [] # make a list of 10 numbers\n",
    "for i in range(10): # functions in python need parentheses\n",
    "    random_number = random.randint(0, 20)\n",
    "    # how do we add this number to our list?\n",
    "    list_of_numbers.append(random_number)\n",
    "\n",
    "# print list_of_numbers outside of loop\n",
    "print(list_of_numbers)"
   ]
  },
  {
   "cell_type": "markdown",
   "metadata": {},
   "source": [
    "#### Making a list with list comprehension"
   ]
  },
  {
   "cell_type": "code",
   "execution_count": 30,
   "metadata": {},
   "outputs": [
    {
     "data": {
      "text/plain": [
       "[5, 13, 10, 8, 4, 6, 10, 3, 2, 12]"
      ]
     },
     "execution_count": 30,
     "metadata": {},
     "output_type": "execute_result"
    }
   ],
   "source": [
    "# how do I know it's making a list?\n",
    "# because of the brackets []\n",
    "list_of_numbers = [random.randint(0, 20) for i in range(10)]\n",
    "list_of_numbers"
   ]
  },
  {
   "cell_type": "code",
   "execution_count": 31,
   "metadata": {},
   "outputs": [],
   "source": [
    "from string import ascii_letters"
   ]
  },
  {
   "cell_type": "code",
   "execution_count": 40,
   "metadata": {},
   "outputs": [
    {
     "data": {
      "text/plain": [
       "'q'"
      ]
     },
     "execution_count": 40,
     "metadata": {},
     "output_type": "execute_result"
    }
   ],
   "source": [
    "random.choice(ascii_letters)"
   ]
  },
  {
   "cell_type": "code",
   "execution_count": 42,
   "metadata": {},
   "outputs": [
    {
     "data": {
      "text/plain": [
       "{'key1': 0}"
      ]
     },
     "execution_count": 42,
     "metadata": {},
     "output_type": "execute_result"
    }
   ],
   "source": [
    "# we're going to make a dictionary containing 10 key, value pairs?\n",
    "# what is a dictionary? \n",
    "\n",
    "# collection of key/value pairs (hashable faster in memory)\n",
    "d = {\"key1\": 0}\n",
    "d"
   ]
  },
  {
   "cell_type": "code",
   "execution_count": 43,
   "metadata": {},
   "outputs": [
    {
     "data": {
      "text/plain": [
       "0"
      ]
     },
     "execution_count": 43,
     "metadata": {},
     "output_type": "execute_result"
    }
   ],
   "source": [
    "d['key1'] # we call the key to get the value"
   ]
  },
  {
   "cell_type": "code",
   "execution_count": 48,
   "metadata": {},
   "outputs": [
    {
     "data": {
      "text/plain": [
       "'some other value'"
      ]
     },
     "execution_count": 48,
     "metadata": {},
     "output_type": "execute_result"
    }
   ],
   "source": [
    "d.get(\"key2\", \"some other value\") # you can also use the .get() method"
   ]
  },
  {
   "cell_type": "code",
   "execution_count": 46,
   "metadata": {},
   "outputs": [
    {
     "ename": "KeyError",
     "evalue": "'key2'",
     "output_type": "error",
     "traceback": [
      "\u001b[0;31m---------------------------------------------------------------------------\u001b[0m",
      "\u001b[0;31mKeyError\u001b[0m                                  Traceback (most recent call last)",
      "\u001b[0;32m<ipython-input-46-2a179be28044>\u001b[0m in \u001b[0;36m<module>\u001b[0;34m\u001b[0m\n\u001b[0;32m----> 1\u001b[0;31m \u001b[0md\u001b[0m\u001b[0;34m[\u001b[0m\u001b[0;34m\"key2\"\u001b[0m\u001b[0;34m]\u001b[0m\u001b[0;34m\u001b[0m\u001b[0m\n\u001b[0m",
      "\u001b[0;31mKeyError\u001b[0m: 'key2'"
     ]
    }
   ],
   "source": [
    "d[\"key2\"]"
   ]
  },
  {
   "cell_type": "code",
   "execution_count": 51,
   "metadata": {},
   "outputs": [
    {
     "data": {
      "text/plain": [
       "{'M': 1,\n",
       " 'O': 2,\n",
       " 'k': 2,\n",
       " 'I': 1,\n",
       " 'U': 1,\n",
       " 'p': 2,\n",
       " 'D': 2,\n",
       " 'y': 1,\n",
       " 'r': 2,\n",
       " 'S': 1,\n",
       " 'J': 1,\n",
       " 'o': 2,\n",
       " 'R': 1,\n",
       " 'u': 3,\n",
       " 'X': 2,\n",
       " 'd': 1,\n",
       " 'c': 1,\n",
       " 'Z': 1,\n",
       " 'z': 2,\n",
       " 'e': 1,\n",
       " 'n': 2,\n",
       " 'K': 1,\n",
       " 'T': 1,\n",
       " 'P': 2,\n",
       " 'F': 1,\n",
       " 'j': 1,\n",
       " 'q': 1,\n",
       " 'i': 1}"
      ]
     },
     "execution_count": 51,
     "metadata": {},
     "output_type": "execute_result"
    }
   ],
   "source": [
    "letter_dict = {} # letter: counts\n",
    "for i in range(40):\n",
    "    letter_key = random.choice(ascii_letters)\n",
    "    if letter_key not in letter_dict.keys():\n",
    "        letter_dict[letter_key] = 1 # if I haven't seen it, create the key/value starting with 1\n",
    "    else:\n",
    "        letter_dict[letter_key] += 1 # otherwise add 1 to the value\n",
    "letter_dict"
   ]
  },
  {
   "cell_type": "code",
   "execution_count": 52,
   "metadata": {},
   "outputs": [
    {
     "data": {
      "text/plain": [
       "{'V': 2,\n",
       " 'J': 2,\n",
       " 'I': 2,\n",
       " 'q': 2,\n",
       " 'L': 2,\n",
       " 'B': 2,\n",
       " 'z': 1,\n",
       " 'x': 1,\n",
       " 'o': 1,\n",
       " 'i': 1,\n",
       " 'G': 1,\n",
       " 'F': 1,\n",
       " 'f': 1,\n",
       " 'W': 2,\n",
       " 'd': 1,\n",
       " 'h': 2,\n",
       " 'j': 1,\n",
       " 'O': 1,\n",
       " 'k': 1,\n",
       " 'Y': 1,\n",
       " 'R': 3,\n",
       " 'M': 2,\n",
       " 'e': 1,\n",
       " 'y': 2,\n",
       " 'D': 1,\n",
       " 'H': 1,\n",
       " 'a': 1,\n",
       " 'U': 1}"
      ]
     },
     "execution_count": 52,
     "metadata": {},
     "output_type": "execute_result"
    }
   ],
   "source": [
    "letter_dict = {} # letter: counts\n",
    "for i in range(40):\n",
    "    letter_key = random.choice(ascii_letters)\n",
    "    letter_dict[letter_key] = letter_dict.get(letter_key, 0) + 1\n",
    "letter_dict"
   ]
  },
  {
   "cell_type": "markdown",
   "metadata": {},
   "source": [
    "# What have we learned so far? \n",
    "* how to apply the `.get()` function\n",
    "* how to build a dictionary! \n",
    "* random.seed() and np.random.seed()\n",
    "* list comprehension\n",
    "* `random.choice()`"
   ]
  },
  {
   "cell_type": "code",
   "execution_count": 56,
   "metadata": {},
   "outputs": [
    {
     "data": {
      "text/plain": [
       "{'name': 'rafa', 'age': 33}"
      ]
     },
     "execution_count": 56,
     "metadata": {},
     "output_type": "execute_result"
    }
   ],
   "source": [
    "# making a dictionary\n",
    "d = {}\n",
    "d['name'] = 'rafa'\n",
    "d['age'] = 33\n",
    "d"
   ]
  },
  {
   "cell_type": "code",
   "execution_count": 58,
   "metadata": {},
   "outputs": [
    {
     "data": {
      "text/plain": [
       "{'name': 'rafa',\n",
       " 'age': 33,\n",
       " 'careers': [{'job_title': 'ms science teacher', 'year': 2011},\n",
       "  {'job_title': 'ms math teacher', 'year': 2011},\n",
       "  {'job_title': 'math author', 'year': 2016},\n",
       "  {'job_title': 'data scientist', 'year': 2017}]}"
      ]
     },
     "execution_count": 58,
     "metadata": {},
     "output_type": "execute_result"
    }
   ],
   "source": [
    "d['careers'] = [{\"job_title\": \"ms science teacher\", \"year\": 2011},\n",
    "                {\"job_title\": \"ms math teacher\", \"year\": 2011},\n",
    "                {\"job_title\": \"math author\", \"year\": 2016},\n",
    "                {\"job_title\": \"data scientist\", \"year\": 2017}]\n",
    "d"
   ]
  },
  {
   "cell_type": "code",
   "execution_count": 64,
   "metadata": {},
   "outputs": [],
   "source": [
    "from pprint import pprint "
   ]
  },
  {
   "cell_type": "code",
   "execution_count": 65,
   "metadata": {},
   "outputs": [
    {
     "name": "stdout",
     "output_type": "stream",
     "text": [
      "{'age': 33,\n",
      " 'careers': [{'job_title': 'ms science teacher', 'year': 2011},\n",
      "             {'job_title': 'ms math teacher', 'year': 2011},\n",
      "             {'job_title': 'math author', 'year': 2016},\n",
      "             {'job_title': 'data scientist', 'year': 2017}],\n",
      " 'name': 'rafa'}\n"
     ]
    }
   ],
   "source": [
    "pprint(d)"
   ]
  },
  {
   "cell_type": "code",
   "execution_count": 100,
   "metadata": {},
   "outputs": [
    {
     "data": {
      "text/plain": [
       "['ms m', 'th te', 'cher']"
      ]
     },
     "execution_count": 100,
     "metadata": {},
     "output_type": "execute_result"
    }
   ],
   "source": [
    "d['careers'][1].get('job_title').split(\"a\")\n"
   ]
  },
  {
   "cell_type": "code",
   "execution_count": 97,
   "metadata": {},
   "outputs": [
    {
     "name": "stdout",
     "output_type": "stream",
     "text": [
      "This job title is ms science teacher\n",
      "This job was performed in 2011\n",
      " 5 x 2 = 10\n",
      "This job title is ms science teacher\n",
      "--------------------\n",
      "This job title is ms math teacher\n",
      "This job was performed in 2011\n",
      " 5 x 2 = 10\n",
      "This job title is ms math teacher\n",
      "--------------------\n",
      "This job title is math author\n",
      "This job was performed in 2016\n",
      " 5 x 2 = 10\n",
      "This job title is math author\n",
      "--------------------\n",
      "This job title is data scientist\n",
      "This job was performed in 2017\n",
      " 5 x 2 = 10\n",
      "This job title is data scientist\n",
      "--------------------\n"
     ]
    }
   ],
   "source": [
    "for career in d['careers']:\n",
    "    job_title = career['job_title']\n",
    "    year = career['year']\n",
    "    print(f\"This job title is {job_title}\")\n",
    "    print(f\"This job was performed in {year}\")\n",
    "    print(f\" 5 x 2 = {5*2}\")\n",
    "    print(\"This job title is {}\".format(job_title))\n",
    "    print(\"--------------------\")\n",
    "    "
   ]
  },
  {
   "cell_type": "markdown",
   "metadata": {},
   "source": [
    "# Zip Function!!!!!"
   ]
  },
  {
   "cell_type": "code",
   "execution_count": 101,
   "metadata": {},
   "outputs": [
    {
     "data": {
      "text/plain": [
       "([5, 2, 8, 8, 0, 9, 5, 7, 0, 1, 5, 4, 3, 0, 3],\n",
       " [9, 1, 1, 7, 1, 8, 2, 2, 10, 7, 8, 2, 4, 8, 9])"
      ]
     },
     "execution_count": 101,
     "metadata": {},
     "output_type": "execute_result"
    }
   ],
   "source": [
    "lst1 = [random.randint(0, 10) for i in range(15)]\n",
    "lst2 = [random.randint(0, 10) for i in range(15)]\n",
    "lst1, lst2"
   ]
  },
  {
   "cell_type": "code",
   "execution_count": 105,
   "metadata": {},
   "outputs": [
    {
     "name": "stdout",
     "output_type": "stream",
     "text": [
      "[14, 3, 9, 15, 1, 17, 7, 9, 10, 8, 13, 6, 7, 8, 12]\n"
     ]
    }
   ],
   "source": [
    "# lst3 = [5 + 9, 2 + 1, ..., 3 + 9]\n",
    "lst3 = []\n",
    "for i in range(len(lst1)):\n",
    "    e1 = lst1[i]\n",
    "    e2 = lst2[i]\n",
    "    lst3.append(e1 + e2)\n",
    "print(lst3)"
   ]
  },
  {
   "cell_type": "code",
   "execution_count": 110,
   "metadata": {},
   "outputs": [
    {
     "data": {
      "text/plain": [
       "[14, 3, 9, 15, 1, 17, 7, 9, 10, 8, 13, 6, 7, 8, 12]"
      ]
     },
     "execution_count": 110,
     "metadata": {},
     "output_type": "execute_result"
    }
   ],
   "source": [
    "lst3 = []\n",
    "for i, j in zip(lst1, lst2): # \n",
    "    lst3.append(i + j)\n",
    "lst3"
   ]
  },
  {
   "cell_type": "code",
   "execution_count": 113,
   "metadata": {},
   "outputs": [
    {
     "name": "stdout",
     "output_type": "stream",
     "text": [
      "5 9 14\n",
      "2 1 3\n",
      "8 1 9\n",
      "8 7 15\n",
      "0 1 1\n",
      "9 8 17\n",
      "5 2 7\n",
      "7 2 9\n",
      "0 10 10\n",
      "1 7 8\n",
      "5 8 13\n",
      "4 2 6\n",
      "3 4 7\n",
      "0 8 8\n",
      "3 9 12\n"
     ]
    }
   ],
   "source": [
    "for i, j, k in zip(lst1, lst2, lst3):\n",
    "    print(i, j, k)"
   ]
  },
  {
   "cell_type": "code",
   "execution_count": 114,
   "metadata": {},
   "outputs": [
    {
     "data": {
      "text/plain": [
       "[14, 3, 9, 15, 1, 17, 7, 9, 10, 8, 13, 6, 7, 8, 12]"
      ]
     },
     "execution_count": 114,
     "metadata": {},
     "output_type": "execute_result"
    }
   ],
   "source": [
    "lst3 = [i+j for i, j in zip(lst1, lst2)]\n",
    "lst3"
   ]
  },
  {
   "cell_type": "markdown",
   "metadata": {},
   "source": [
    "# Lambda Functions"
   ]
  },
  {
   "cell_type": "code",
   "execution_count": 118,
   "metadata": {},
   "outputs": [],
   "source": [
    "def remove_as(s):\n",
    "    new_string = s.replace(\"a\", \"\")\n",
    "    return new_string"
   ]
  },
  {
   "cell_type": "code",
   "execution_count": 119,
   "metadata": {},
   "outputs": [],
   "source": [
    "string1 = \"this is a string with some letters and stuff in it for the sake of an example\""
   ]
  },
  {
   "cell_type": "code",
   "execution_count": 120,
   "metadata": {},
   "outputs": [
    {
     "data": {
      "text/plain": [
       "'this is  string with some letters nd stuff in it for the ske of n exmple'"
      ]
     },
     "execution_count": 120,
     "metadata": {},
     "output_type": "execute_result"
    }
   ],
   "source": [
    "remove_as(string1)"
   ]
  },
  {
   "cell_type": "markdown",
   "metadata": {},
   "source": [
    "#### how can I write this same function as a lambda function? "
   ]
  },
  {
   "cell_type": "code",
   "execution_count": 121,
   "metadata": {},
   "outputs": [],
   "source": [
    "remove_as = lambda s: s.replace(\"a\", \"\")"
   ]
  },
  {
   "cell_type": "code",
   "execution_count": 122,
   "metadata": {},
   "outputs": [
    {
     "data": {
      "text/plain": [
       "'this is  string with some letters nd stuff in it for the ske of n exmple'"
      ]
     },
     "execution_count": 122,
     "metadata": {},
     "output_type": "execute_result"
    }
   ],
   "source": [
    "remove_as(string1)"
   ]
  },
  {
   "cell_type": "code",
   "execution_count": 123,
   "metadata": {},
   "outputs": [
    {
     "data": {
      "text/plain": [
       "'here is nother exmple'"
      ]
     },
     "execution_count": 123,
     "metadata": {},
     "output_type": "execute_result"
    }
   ],
   "source": [
    "remove_as(\"here is another example\")"
   ]
  },
  {
   "cell_type": "markdown",
   "metadata": {},
   "source": [
    "# How else can I manipulate this string? "
   ]
  },
  {
   "cell_type": "code",
   "execution_count": 10,
   "metadata": {},
   "outputs": [
    {
     "data": {
      "text/plain": [
       "['John', 'December', 'Full Time', '2019']"
      ]
     },
     "execution_count": 10,
     "metadata": {},
     "output_type": "execute_result"
    }
   ],
   "source": [
    "# separate it by words\n",
    "student_word_list = student.split(\",\")\n",
    "student_word_list\n",
    "\n",
    "new_student_word_list = []\n",
    "\n",
    "for word in student_word_list:\n",
    "    word = word.strip()\n",
    "    new_student_word_list.append(word)\n",
    "new_student_word_list"
   ]
  },
  {
   "cell_type": "code",
   "execution_count": 13,
   "metadata": {},
   "outputs": [
    {
     "data": {
      "text/plain": [
       "'John, January, Full Time, 2019'"
      ]
     },
     "execution_count": 13,
     "metadata": {},
     "output_type": "execute_result"
    }
   ],
   "source": [
    "# replace aspects of the string\n",
    "student = student.replace(\"December\", \"January\")\n",
    "student"
   ]
  },
  {
   "cell_type": "code",
   "execution_count": 14,
   "metadata": {},
   "outputs": [
    {
     "data": {
      "text/plain": [
       "'John, January, Full Time, 2019'"
      ]
     },
     "execution_count": 14,
     "metadata": {},
     "output_type": "execute_result"
    }
   ],
   "source": [
    "student"
   ]
  },
  {
   "cell_type": "markdown",
   "metadata": {},
   "source": [
    "# Method chaining"
   ]
  },
  {
   "cell_type": "code",
   "execution_count": 17,
   "metadata": {},
   "outputs": [
    {
     "data": {
      "text/plain": [
       "'John-january-fulltime-2019'"
      ]
     },
     "execution_count": 17,
     "metadata": {},
     "output_type": "execute_result"
    }
   ],
   "source": [
    "# method chaining example\n",
    "student.replace(\",\", \"-\").replace(\" \", \"\").lower().capitalize()"
   ]
  },
  {
   "cell_type": "code",
   "execution_count": 18,
   "metadata": {},
   "outputs": [
    {
     "data": {
      "text/plain": [
       "'jOHN, jANUARY, fULL tIME, 2019'"
      ]
     },
     "execution_count": 18,
     "metadata": {},
     "output_type": "execute_result"
    }
   ],
   "source": [
    "student.swapcase()"
   ]
  },
  {
   "cell_type": "code",
   "execution_count": 19,
   "metadata": {},
   "outputs": [
    {
     "data": {
      "text/plain": [
       "False"
      ]
     },
     "execution_count": 19,
     "metadata": {},
     "output_type": "execute_result"
    }
   ],
   "source": [
    "# endswith returns a Boolean\n",
    "\n",
    "student.endswith(\"2020\")"
   ]
  },
  {
   "cell_type": "code",
   "execution_count": 22,
   "metadata": {},
   "outputs": [
    {
     "data": {
      "text/plain": [
       "'John, January, Full Time, 2019'"
      ]
     },
     "execution_count": 22,
     "metadata": {},
     "output_type": "execute_result"
    }
   ],
   "source": [
    "student"
   ]
  },
  {
   "cell_type": "code",
   "execution_count": 25,
   "metadata": {},
   "outputs": [
    {
     "name": "stdout",
     "output_type": "stream",
     "text": [
      "False\n",
      "False\n",
      "True\n"
     ]
    }
   ],
   "source": [
    "# Boolean exercises\n",
    "# student.endswith(\"2020\") == True ->\n",
    "# False == True\n",
    "# False\n",
    "\n",
    "bool1 = student.endswith(\"2020\") == True\n",
    "print(bool1)\n",
    "\n",
    "# True == False\n",
    "bool2 = student.endswith(\"2019\") == student.startswith(\"j\")\n",
    "print(bool2)\n",
    "\n",
    "# True == True\n",
    "bool3 = student[-1].isdigit() == student.startswith(\"J\")\n",
    "print(bool3)"
   ]
  },
  {
   "cell_type": "code",
   "execution_count": 26,
   "metadata": {},
   "outputs": [
    {
     "data": {
      "text/plain": [
       "True"
      ]
     },
     "execution_count": 26,
     "metadata": {},
     "output_type": "execute_result"
    }
   ],
   "source": [
    "True == 1\n"
   ]
  },
  {
   "cell_type": "code",
   "execution_count": 23,
   "metadata": {},
   "outputs": [
    {
     "data": {
      "text/plain": [
       "False"
      ]
     },
     "execution_count": 23,
     "metadata": {},
     "output_type": "execute_result"
    }
   ],
   "source": [
    "student.startswith(\"j\")"
   ]
  },
  {
   "cell_type": "code",
   "execution_count": 29,
   "metadata": {},
   "outputs": [
    {
     "data": {
      "text/plain": [
       "4"
      ]
     },
     "execution_count": 29,
     "metadata": {},
     "output_type": "execute_result"
    }
   ],
   "source": [
    "True + True + False + True * (True + True) # 1 + 1 + 0 + 1(2)"
   ]
  },
  {
   "cell_type": "code",
   "execution_count": 35,
   "metadata": {},
   "outputs": [
    {
     "data": {
      "text/plain": [
       "4"
      ]
     },
     "execution_count": 35,
     "metadata": {},
     "output_type": "execute_result"
    }
   ],
   "source": [
    "p = True\n",
    "\n",
    "if p:\n",
    "    x = 4\n",
    "else:\n",
    "    x = 10\n",
    "x"
   ]
  },
  {
   "cell_type": "code",
   "execution_count": 37,
   "metadata": {},
   "outputs": [
    {
     "data": {
      "text/plain": [
       "4"
      ]
     },
     "execution_count": 37,
     "metadata": {},
     "output_type": "execute_result"
    }
   ],
   "source": [
    "x = 4 if p else 10 # inline conditional\n",
    "x"
   ]
  },
  {
   "cell_type": "code",
   "execution_count": 38,
   "metadata": {},
   "outputs": [
    {
     "data": {
      "text/plain": [
       "True"
      ]
     },
     "execution_count": 38,
     "metadata": {},
     "output_type": "execute_result"
    }
   ],
   "source": [
    "sleep = 4\n",
    "tired = True if sleep < 8 else False\n",
    "tired"
   ]
  },
  {
   "cell_type": "code",
   "execution_count": 40,
   "metadata": {},
   "outputs": [
    {
     "data": {
      "text/plain": [
       "2"
      ]
     },
     "execution_count": 40,
     "metadata": {},
     "output_type": "execute_result"
    }
   ],
   "source": [
    "y = 10\n",
    "# send me a line of code that sets x to 2 if y is > 0 otherwise set x to 10\n",
    "x = 2 if y > 0 else 10\n",
    "x"
   ]
  },
  {
   "cell_type": "code",
   "execution_count": 1,
   "metadata": {},
   "outputs": [],
   "source": [
    "import pandas as pd\n",
    "import numpy as np\n",
    "\n",
    "from collections import defaultdict\n",
    "\n",
    "import matplotlib.pyplot as plt"
   ]
  },
  {
   "cell_type": "markdown",
   "metadata": {},
   "source": [
    "### List comprehension"
   ]
  },
  {
   "cell_type": "code",
   "execution_count": 47,
   "metadata": {},
   "outputs": [
    {
     "data": {
      "text/plain": [
       "[0, 3, 6, 9, 12, 15, 18, 21, 24, 27]"
      ]
     },
     "execution_count": 47,
     "metadata": {},
     "output_type": "execute_result"
    }
   ],
   "source": [
    "# declare an empty list that I will populate\n",
    "triples = []\n",
    "\n",
    "# populating my list\n",
    "for i in range(10):\n",
    "    triples.append(3*i)\n",
    "\n",
    "triples"
   ]
  },
  {
   "cell_type": "code",
   "execution_count": 52,
   "metadata": {},
   "outputs": [
    {
     "data": {
      "text/plain": [
       "[0, 9, 36, 81, 144, 225, 324, 441, 576, 729]"
      ]
     },
     "execution_count": 52,
     "metadata": {},
     "output_type": "execute_result"
    }
   ],
   "source": [
    "# square of every element in triples\n",
    "y = []\n",
    "\n",
    "for element in triples: # 0, 3, 6, ...\n",
    "    y.append(element**2) # y.append(0), y.append(9), y.append(36), ...\n",
    "y\n"
   ]
  },
  {
   "cell_type": "code",
   "execution_count": 54,
   "metadata": {},
   "outputs": [
    {
     "data": {
      "text/plain": [
       "[0, 9, 36, 81, 144, 225, 324, 441, 576, 729]"
      ]
     },
     "execution_count": 54,
     "metadata": {},
     "output_type": "execute_result"
    }
   ],
   "source": [
    "# list comprehension\n",
    "y = [element**2 for element in triples]\n",
    "y"
   ]
  },
  {
   "cell_type": "code",
   "execution_count": 57,
   "metadata": {
    "scrolled": false
   },
   "outputs": [
    {
     "name": "stdout",
     "output_type": "stream",
     "text": [
      "0\n",
      "0\n",
      "\n",
      "\n",
      "3\n",
      "9\n",
      "\n",
      "\n",
      "6\n",
      "36\n",
      "\n",
      "\n",
      "9\n",
      "81\n",
      "\n",
      "\n",
      "12\n",
      "144\n",
      "\n",
      "\n",
      "15\n",
      "225\n",
      "\n",
      "\n",
      "18\n",
      "324\n",
      "\n",
      "\n",
      "21\n",
      "441\n",
      "\n",
      "\n",
      "24\n",
      "576\n",
      "\n",
      "\n",
      "27\n",
      "729\n",
      "\n",
      "\n"
     ]
    }
   ],
   "source": [
    "# loop through both of my lists, triples and y\n",
    "# for i in range(10)\n",
    "\n",
    "for i in range(len(triples)):# i = 0, 1\n",
    "    print(triples[i]) # triples[0], triples[1]\n",
    "    print(y[i]) # y[0], y[1]\n",
    "    print('\\n')"
   ]
  },
  {
   "cell_type": "code",
   "execution_count": 60,
   "metadata": {},
   "outputs": [],
   "source": [
    "x = [1, 2, 3, 4, 3, 2, 1, 5, 5]"
   ]
  },
  {
   "cell_type": "code",
   "execution_count": 65,
   "metadata": {
    "scrolled": false
   },
   "outputs": [
    {
     "data": {
      "text/plain": [
       "{0: 0,\n",
       " 3: 9,\n",
       " 6: 36,\n",
       " 9: 81,\n",
       " 12: 144,\n",
       " 15: 225,\n",
       " 18: 324,\n",
       " 21: 441,\n",
       " 24: 576,\n",
       " 27: 729}"
      ]
     },
     "execution_count": 65,
     "metadata": {},
     "output_type": "execute_result"
    }
   ],
   "source": [
    "# using the zip function\n",
    "# let's make a dictionary \n",
    "# d[triples] = y {0: 0, 3: 9, 6: 36, ... }\n",
    "\n",
    "triples_squared_dict = {}\n",
    "\n",
    "for e1, e2 in zip(triples, y):\n",
    "    triples_squared_dict[e1] = e2\n",
    "    \n",
    "triples_squared_dict"
   ]
  },
  {
   "cell_type": "code",
   "execution_count": 66,
   "metadata": {},
   "outputs": [
    {
     "data": {
      "text/plain": [
       "{0: 0,\n",
       " 3: 9,\n",
       " 6: 36,\n",
       " 9: 81,\n",
       " 12: 144,\n",
       " 15: 225,\n",
       " 18: 324,\n",
       " 21: 441,\n",
       " 24: 576,\n",
       " 27: 729}"
      ]
     },
     "execution_count": 66,
     "metadata": {},
     "output_type": "execute_result"
    }
   ],
   "source": [
    "triples_squared_dict = dict(zip(triples, y))\n",
    "triples_squared_dict"
   ]
  },
  {
   "cell_type": "code",
   "execution_count": 67,
   "metadata": {},
   "outputs": [
    {
     "data": {
      "text/plain": [
       "{0: 0.0,\n",
       " 3: 1.5,\n",
       " 6: 3.0,\n",
       " 9: 4.5,\n",
       " 12: 6.0,\n",
       " 15: 7.5,\n",
       " 18: 9.0,\n",
       " 21: 10.5,\n",
       " 24: 12.0,\n",
       " 27: 13.5}"
      ]
     },
     "execution_count": 67,
     "metadata": {},
     "output_type": "execute_result"
    }
   ],
   "source": [
    "# Show you some more awesomeness with zip and dict\n",
    "new_dictionary = dict(zip(triples, [t/2 for t in triples]))\n",
    "new_dictionary"
   ]
  },
  {
   "cell_type": "code",
   "execution_count": 68,
   "metadata": {},
   "outputs": [
    {
     "name": "stdout",
     "output_type": "stream",
     "text": [
      "0.0\n",
      "12.0\n"
     ]
    },
    {
     "ename": "KeyError",
     "evalue": "25",
     "output_type": "error",
     "traceback": [
      "\u001b[0;31m---------------------------------------------------------------------------\u001b[0m",
      "\u001b[0;31mKeyError\u001b[0m                                  Traceback (most recent call last)",
      "\u001b[0;32m<ipython-input-68-19adcd930e85>\u001b[0m in \u001b[0;36m<module>\u001b[0;34m\u001b[0m\n\u001b[1;32m      1\u001b[0m \u001b[0mprint\u001b[0m\u001b[0;34m(\u001b[0m\u001b[0mnew_dictionary\u001b[0m\u001b[0;34m[\u001b[0m\u001b[0;36m0\u001b[0m\u001b[0;34m]\u001b[0m\u001b[0;34m)\u001b[0m \u001b[0;31m# 0.0\u001b[0m\u001b[0;34m\u001b[0m\u001b[0m\n\u001b[1;32m      2\u001b[0m \u001b[0mprint\u001b[0m\u001b[0;34m(\u001b[0m\u001b[0mnew_dictionary\u001b[0m\u001b[0;34m[\u001b[0m\u001b[0;36m24\u001b[0m\u001b[0;34m]\u001b[0m\u001b[0;34m)\u001b[0m \u001b[0;31m# 12.0\u001b[0m\u001b[0;34m\u001b[0m\u001b[0m\n\u001b[0;32m----> 3\u001b[0;31m \u001b[0mprint\u001b[0m\u001b[0;34m(\u001b[0m\u001b[0mnew_dictionary\u001b[0m\u001b[0;34m[\u001b[0m\u001b[0;36m25\u001b[0m\u001b[0;34m]\u001b[0m\u001b[0;34m)\u001b[0m \u001b[0;31m# error\u001b[0m\u001b[0;34m\u001b[0m\u001b[0m\n\u001b[0m",
      "\u001b[0;31mKeyError\u001b[0m: 25"
     ]
    }
   ],
   "source": [
    "print(new_dictionary[0]) # 0.0\n",
    "print(new_dictionary[24]) # 12.0\n",
    "print(new_dictionary[25]) # error"
   ]
  },
  {
   "cell_type": "code",
   "execution_count": 70,
   "metadata": {},
   "outputs": [
    {
     "data": {
      "text/plain": [
       "0.0"
      ]
     },
     "execution_count": 70,
     "metadata": {},
     "output_type": "execute_result"
    }
   ],
   "source": [
    "new_dictionary.get(0, \"does not exist, dude\")"
   ]
  },
  {
   "cell_type": "code",
   "execution_count": 72,
   "metadata": {},
   "outputs": [
    {
     "data": {
      "text/plain": [
       "1234"
      ]
     },
     "execution_count": 72,
     "metadata": {},
     "output_type": "execute_result"
    }
   ],
   "source": [
    "new_dictionary.get(25, 1234)"
   ]
  },
  {
   "cell_type": "markdown",
   "metadata": {},
   "source": [
    "### Assessment\n",
    "* inline, looping through more than one list and zip\n",
    "* New methods for dictionary (zip, get)\n",
    "* learned to use tab to know how to I can manipulate strings\n",
    "* Learned about retrieving information from dictionaries and about the zip function\n",
    "* I learned about the wonderment of zip()\n",
    "* Love the zip shortI thought in the last example that [0], [24] and [25] were calling the index #, so I learned is actually calling the value for that key. cuts and the other inline shortcuts\n",
    "* Learned - created a dictionary by zipping two lists, while using a for loop for one of the lists.\n",
    "* I really liked the zip function\n",
    "* learned that in _ line conditionals can ve used in zip functions\n",
    "* how to use the dictionary methods zip and get\n",
    "* Learned how to create dictionaries from data using particular python functions\n",
    "* Reinforced the comparative operator and the zip func\n",
    "* simple  if/else  statement can be coded in one line using inline condition"
   ]
  },
  {
   "cell_type": "code",
   "execution_count": null,
   "metadata": {},
   "outputs": [],
   "source": []
  }
 ],
 "metadata": {
  "kernelspec": {
   "display_name": "Python [conda env:flatiron-env] *",
   "language": "python",
   "name": "conda-env-flatiron-env-py"
  },
  "language_info": {
   "codemirror_mode": {
    "name": "ipython",
    "version": 3
   },
   "file_extension": ".py",
   "mimetype": "text/x-python",
   "name": "python",
   "nbconvert_exporter": "python",
   "pygments_lexer": "ipython3",
   "version": "3.6.0"
  }
 },
 "nbformat": 4,
 "nbformat_minor": 2
}
